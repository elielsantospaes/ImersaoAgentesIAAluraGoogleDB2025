{
 "cells": [
  {
   "cell_type": "markdown",
   "metadata": {
    "application/vnd.databricks.v1+cell": {
     "cellMetadata": {
      "byteLimit": 2048000,
      "rowLimit": 10000
     },
     "inputWidgets": {},
     "nuid": "377df0f1-4a26-45df-b65d-a0d379657105",
     "showTitle": false,
     "tableResultSettingsMap": {},
     "title": ""
    }
   },
   "source": [
    "# Aula 1\n",
    "\n",
    "Definições básicas do agente\n",
    "\n",
    "palavras chaves: Aula 1: \"LANGCHAIN\""
   ]
  },
  {
   "cell_type": "markdown",
   "metadata": {
    "application/vnd.databricks.v1+cell": {
     "cellMetadata": {
      "byteLimit": 2048000,
      "rowLimit": 10000
     },
     "inputWidgets": {},
     "nuid": "b7ae1b22-bad0-45f8-b3ba-73bac2261dd1",
     "showTitle": true,
     "tableResultSettingsMap": {},
     "title": "Definição do comportamento do agente"
    }
   },
   "source": [
    "#### Definição do agente   \n",
    "\n",
    "Este agente será um assistente para estudos, focado em leitura de papers.   \n",
    "O propósito será explicar em linguagem simples o que está descrito no paper.   \n",
    "\n",
    "\n",
    "Fluxo de atendimento do agente:\n",
    "\n"
   ]
  },
  {
   "cell_type": "markdown",
   "metadata": {
    "application/vnd.databricks.v1+cell": {
     "cellMetadata": {
      "byteLimit": 2048000,
      "rowLimit": 10000
     },
     "inputWidgets": {},
     "nuid": "2794d92b-b05a-4997-b685-72df2515d686",
     "showTitle": false,
     "tableResultSettingsMap": {},
     "title": ""
    }
   },
   "source": []
  },
  {
   "cell_type": "code",
   "execution_count": 0,
   "metadata": {
    "application/vnd.databricks.v1+cell": {
     "cellMetadata": {
      "byteLimit": 2048000,
      "rowLimit": 10000
     },
     "inputWidgets": {},
     "nuid": "86f1f04f-a916-4d5b-b235-ab06362890ca",
     "showTitle": true,
     "tableResultSettingsMap": {},
     "title": "installs"
    }
   },
   "outputs": [],
   "source": [
    "!pip install -q --upgrade -r requirements.txt"
   ]
  },
  {
   "cell_type": "code",
   "execution_count": 0,
   "metadata": {
    "application/vnd.databricks.v1+cell": {
     "cellMetadata": {
      "byteLimit": 2048000,
      "rowLimit": 10000
     },
     "inputWidgets": {},
     "nuid": "7cd4e36c-42a8-42ce-ae2d-58c44e7c94b9",
     "showTitle": true,
     "tableResultSettingsMap": {},
     "title": "Imports"
    }
   },
   "outputs": [],
   "source": [
    "import json\n",
    "import prompts\n",
    "import os\n",
    "\n",
    "# from langchain_google_genai import ChatGoogleGenerativeAI \n",
    "from databricks_langchain import ChatDatabricks\n",
    "from pydantic import BaseModel, Field\n",
    "from typing import Literal, List, Dict\n",
    "from langchain_core.messages import SystemMessage, HumanMessage\n",
    "\n",
    "# GEMINI_API_KEY = json.load(open(\"config.json\"))[\"GEMINI_API_KEY\"]"
   ]
  },
  {
   "cell_type": "code",
   "execution_count": 0,
   "metadata": {
    "application/vnd.databricks.v1+cell": {
     "cellMetadata": {
      "byteLimit": 2048000,
      "rowLimit": 10000
     },
     "inputWidgets": {},
     "nuid": "ada36a22-8bf5-4232-ac19-27459e04f785",
     "showTitle": true,
     "tableResultSettingsMap": {},
     "title": "Instanciando o chat"
    }
   },
   "outputs": [],
   "source": [
    "# llm = ChatGoogleGenerativeAI(model = \"gemini-2.5-flash\", temperature = 0, api_key = GEMINI_API_KEY)\n",
    "llm = ChatDatabricks(endpoint = \"databricks-llama-4-maverick\", temperature = 0,  max_tokens = 8192)"
   ]
  },
  {
   "cell_type": "code",
   "execution_count": 0,
   "metadata": {
    "application/vnd.databricks.v1+cell": {
     "cellMetadata": {
      "byteLimit": 2048000,
      "rowLimit": 10000
     },
     "inputWidgets": {},
     "nuid": "83b5fa37-a62e-48b0-9169-53dffdcd6f38",
     "showTitle": false,
     "tableResultSettingsMap": {},
     "title": ""
    }
   },
   "outputs": [],
   "source": [
    "class TriagemOut(BaseModel):\n",
    "    decisao: Literal[\"PEDIDO_AJUDA\", \"TUDO_CERTO\", \"PEDIR_INFO\", \"ABRIR_CHAMADO\"]\n",
    "    urgencia: Literal[\"BAIXA\", \"BAIXA\", \"MEDIA\", \"ALTA\"]\n",
    "    campos_faltantes: List[str] = Field(default_factory = list)"
   ]
  },
  {
   "cell_type": "code",
   "execution_count": 0,
   "metadata": {
    "application/vnd.databricks.v1+cell": {
     "cellMetadata": {
      "byteLimit": 2048000,
      "rowLimit": 10000
     },
     "inputWidgets": {},
     "nuid": "903417b6-1f93-4b2f-b48b-ca81d66e08e2",
     "showTitle": false,
     "tableResultSettingsMap": {},
     "title": ""
    }
   },
   "outputs": [],
   "source": [
    "# llm_triagem = ChatGoogleGenerativeAI(model = \"databricks-llama-4-maverick\", temperature = 0, api_key = GEMINI_API_KEY)\n",
    "llm_triagem = ChatDatabricks(endpoint = \"databricks-llama-4-maverick\", temperature = 0, max_tokens = 8192)"
   ]
  },
  {
   "cell_type": "code",
   "execution_count": 0,
   "metadata": {
    "application/vnd.databricks.v1+cell": {
     "cellMetadata": {
      "byteLimit": 2048000,
      "rowLimit": 10000
     },
     "inputWidgets": {},
     "nuid": "a751de43-bed9-4fce-b6c3-b84123d528f4",
     "showTitle": true,
     "tableResultSettingsMap": {},
     "title": "system prompt"
    }
   },
   "outputs": [],
   "source": [
    "triagem_prompt = \"\"\"Você é o recepcionista virtual de uma sistema de estudo online chamado ReadMyPaper. Você deve fazer o primeiro atendimento dos usuários identificando se os requisitos para iniciar a leitura do paper foram cumpridos.\n",
    "Dada a mensagem do usuário, retorne SOMENTE um JSON com:\n",
    "'''{\n",
    "\"decisao\": \"PEDIDO_AJUDA\" | \"TUDO_CERTO\" | \"PEDIR_INFO\" | \"ABRIR_CHAMADO\",\n",
    "\"urgencia\": \"BAIXA\" | \"BAIXA\" | \"MEDIA\" | \"ALTA\",\n",
    "\"campos_faltantes\": [\"...\"]\n",
    "}'''\n",
    "Regras:\n",
    "- **PEDIDO_AJUDA**: Pedido de ajuda para enviar o paper para análise (Ex: \"Como faço para enviar o paper?\", \"Como faço o upload do paper?).\n",
    "- **TUDO_CERTO**: Perguntas claras sobre o conteúdo do paper (Ex: \"Qual o principal assunto do paper?\", \"Qual a metodologia utilizada?\").\n",
    "- **PEDIR_INFO**: Mensagens vagas ou que faltam informações para identificar o paper (Ex: \"Preciso de ajuda\", \"Tenho uma dúvida geral\", \"Qualquer pergunta fora do contexto do ReadMyPaper\").\n",
    "- **ABRIR_CHAMADO**: Situações em que não é possível continuar com a atendimento com o usuário. (Ex: \"O usuáiro afirma que já fez o envio do paper mas ainda não há conteúdo para ser avaliado.\", \"O usuário está com problemas ao tentar enviar o paper\", \"O usuário pede para abrir chamado\").\n",
    "Analise a mensagem e decida a ação mais apropriada.\n",
    "\"\"\""
   ]
  },
  {
   "cell_type": "code",
   "execution_count": 0,
   "metadata": {
    "application/vnd.databricks.v1+cell": {
     "cellMetadata": {
      "byteLimit": 2048000,
      "rowLimit": 10000
     },
     "inputWidgets": {},
     "nuid": "db9ad24b-9225-4d04-a33f-1c6a4f80571f",
     "showTitle": false,
     "tableResultSettingsMap": {},
     "title": ""
    }
   },
   "outputs": [],
   "source": [
    "triagem_chain = llm_triagem.with_structured_output(TriagemOut)\n",
    "\n",
    "def get_papers_list():\n",
    "    \"\"\"\n",
    "    \n",
    "    \"\"\"\n",
    "    pass\n",
    "          \n",
    "\n",
    "def check_paper_exist(paper_name) -> list:\n",
    "    \"\"\"\n",
    "    \n",
    "    \"\"\"\n",
    "    if os.path.exists(f\"papers_to_read\"):\n",
    "        return True\n",
    "    return os.path.exists(f\"papers/{paper_name}.pdf\")\n",
    "    \n",
    "\n",
    "\n",
    "def triagem(message: str) -> dict:\n",
    "    \"\"\"\n",
    "    Retorna um dicionário com as seguintes chaves:\n",
    "    - decisao: \"TUDO_CERTO\", \"PEDIR_INFO\", \"ABRIR_CHAMADO\"\n",
    "    - urgencia: \"BAIXA\", \"MEDIA\", \"ALTA\"\n",
    "    - campos_faltantes: lista de campos faltantes\n",
    "    \"\"\"\n",
    "           \n",
    "    triagem_out: TriagemOut = triagem_chain.invoke([SystemMessage(content = triagem_prompt), HumanMessage(content = message)])\n",
    "\n",
    "    return triagem_out.model_dump()  "
   ]
  },
  {
   "cell_type": "code",
   "execution_count": 0,
   "metadata": {
    "application/vnd.databricks.v1+cell": {
     "cellMetadata": {
      "byteLimit": 2048000,
      "rowLimit": 10000
     },
     "inputWidgets": {},
     "nuid": "20cc3e0b-c724-4e34-bc47-60686416b741",
     "showTitle": false,
     "tableResultSettingsMap": {},
     "title": ""
    }
   },
   "outputs": [],
   "source": [
    "testes = [\"Qual o assunto principal do paper?\", \n",
    "          \"Preciso fazer o upload do paper\",\n",
    "          \"O palmeiras tem mundial?\",\n",
    "          \"Já enviei o paper, podemos começar?\"]\n",
    "\n",
    "for teste in testes:\n",
    "  print(f\"Pergunta do usuário: {teste}\\nResposta do Agente: {triagem(teste)}\")"
   ]
  },
  {
   "cell_type": "markdown",
   "metadata": {
    "application/vnd.databricks.v1+cell": {
     "cellMetadata": {
      "byteLimit": 2048000,
      "rowLimit": 10000
     },
     "inputWidgets": {},
     "nuid": "f3ade488-3986-4aab-a4a2-0a90b1272f00",
     "showTitle": false,
     "tableResultSettingsMap": {},
     "title": ""
    }
   },
   "source": [
    "# Aula 2\n",
    "\n",
    "Construção de um RAG\n",
    "\n",
    "palavras chaves: Aula 1: \"LANGCHAIN\"\n",
    "palavras chaves: Aula 2: \"CHUNKS\""
   ]
  },
  {
   "cell_type": "code",
   "execution_count": 0,
   "metadata": {
    "application/vnd.databricks.v1+cell": {
     "cellMetadata": {
      "byteLimit": 2048000,
      "rowLimit": 10000
     },
     "inputWidgets": {},
     "nuid": "ac16a0a2-7007-4e60-9bd9-d5f7a9e4528b",
     "showTitle": true,
     "tableResultSettingsMap": {},
     "title": "imports"
    }
   },
   "outputs": [],
   "source": [
    "from pathlib import Path\n",
    "from langchain_community.document_loaders import PyMuPDFLoader\n",
    "from langchain_text_splitters import RecursiveCharacterTextSplitter\n",
    "# from langchain_google_genai import GoogleGenerativeAIEmbeddings\n",
    "from databricks_langchain import DatabricksEmbeddings\n",
    "from langchain_community.vectorstores import FAISS\n",
    "from langchain_core.prompts import ChatPromptTemplate\n",
    "from langchain.chains.combine_documents import create_stuff_documents_chain"
   ]
  },
  {
   "cell_type": "code",
   "execution_count": 0,
   "metadata": {
    "application/vnd.databricks.v1+cell": {
     "cellMetadata": {
      "byteLimit": 2048000,
      "rowLimit": 10000
     },
     "inputWidgets": {},
     "nuid": "51361b68-e27b-48e3-9fdc-b89b91dedde4",
     "showTitle": true,
     "tableResultSettingsMap": {},
     "title": "carga dos pdfs para uma lista"
    }
   },
   "outputs": [],
   "source": [
    "docs = []\n",
    "for n in Path(\"papers\").glob(\"*.pdf\"):\n",
    "    try:\n",
    "        loader = PyMuPDFLoader(str(n))\n",
    "        docs.extend(loader.load())\n",
    "        print(f\"Arquivo {n.name} carregado com sucesso!\")\n",
    "\n",
    "    except Exception as e:\n",
    "        print(f\"Error ao carregar o arquvio {n.name}: {e}\")"
   ]
  },
  {
   "cell_type": "code",
   "execution_count": 0,
   "metadata": {
    "application/vnd.databricks.v1+cell": {
     "cellMetadata": {
      "byteLimit": 2048000,
      "rowLimit": 10000
     },
     "inputWidgets": {},
     "nuid": "2a2ae71d-ba1f-47f9-b667-3876800c7926",
     "showTitle": true,
     "tableResultSettingsMap": {},
     "title": "Gerando os chuncks dos pdf"
    }
   },
   "outputs": [],
   "source": [
    "splitter = RecursiveCharacterTextSplitter(chunk_size = 500, chunk_overlap = 25)\n",
    "chuncks = splitter.split_documents(docs)"
   ]
  },
  {
   "cell_type": "code",
   "execution_count": 0,
   "metadata": {
    "application/vnd.databricks.v1+cell": {
     "cellMetadata": {
      "byteLimit": 2048000,
      "rowLimit": 10000
     },
     "inputWidgets": {},
     "nuid": "42296403-c0c6-483e-ac22-4957b60a8554",
     "showTitle": true,
     "tableResultSettingsMap": {},
     "title": "Definindo o modelo de embedding"
    }
   },
   "outputs": [],
   "source": [
    "embeddings = DatabricksEmbeddings(endpoint = \"databricks-bge-large-en\")"
   ]
  },
  {
   "cell_type": "code",
   "execution_count": 0,
   "metadata": {
    "application/vnd.databricks.v1+cell": {
     "cellMetadata": {
      "byteLimit": 2048000,
      "rowLimit": 10000
     },
     "inputWidgets": {},
     "nuid": "943d5fd0-65c0-4d4e-8a23-1202f61ec8a7",
     "showTitle": true,
     "tableResultSettingsMap": {},
     "title": "Geranto do Vector DB"
    }
   },
   "outputs": [],
   "source": [
    "vector_store = FAISS.from_documents(chuncks, embeddings)"
   ]
  },
  {
   "cell_type": "code",
   "execution_count": 0,
   "metadata": {
    "application/vnd.databricks.v1+cell": {
     "cellMetadata": {
      "byteLimit": 2048000,
      "rowLimit": 10000
     },
     "inputWidgets": {},
     "nuid": "993fdef9-8db9-4b88-a94e-44e691ce95ad",
     "showTitle": true,
     "tableResultSettingsMap": {},
     "title": "Definição do retriever"
    }
   },
   "outputs": [],
   "source": [
    "retriever = vector_store.as_retriever(search_type = \"similarity_score_threshold\", search_kwargs = {\"score_threshold\": 0.5, \"k\": 5})"
   ]
  },
  {
   "cell_type": "code",
   "execution_count": 0,
   "metadata": {
    "application/vnd.databricks.v1+cell": {
     "cellMetadata": {
      "byteLimit": 2048000,
      "rowLimit": 10000
     },
     "inputWidgets": {},
     "nuid": "1660755a-36af-46d8-a35d-01e0480f4db7",
     "showTitle": true,
     "tableResultSettingsMap": {},
     "title": "Definição do prompt de systema"
    }
   },
   "outputs": [],
   "source": [
    "prompt_rag = ChatPromptTemplate.from_messages([ (\"system\", \n",
    "                                                \"\"\"Você é um assistente de perguntas e respostas sobre o conteúdo do paper da empresa ReadMyPaper.\n",
    "                                                    Responda SOMENTE com base no contexto fornecido.\n",
    "                                                    Se você não souber a resposta, responda apenas; 'Não sei'.\"\"\"),\n",
    "                                                (\"human\", \"Pergunta: {question}\\n\\nContexto:\\n {context}\")\n",
    "                                                ])"
   ]
  },
  {
   "cell_type": "code",
   "execution_count": 0,
   "metadata": {
    "application/vnd.databricks.v1+cell": {
     "cellMetadata": {
      "byteLimit": 2048000,
      "rowLimit": 10000
     },
     "inputWidgets": {},
     "nuid": "9a547ff4-bb8f-47ad-8276-2dae578e1e4c",
     "showTitle": false,
     "tableResultSettingsMap": {},
     "title": ""
    }
   },
   "outputs": [],
   "source": [
    "documents_chain = create_stuff_documents_chain(llm = llm, prompt = prompt_rag)\n"
   ]
  },
  {
   "cell_type": "code",
   "execution_count": 0,
   "metadata": {
    "application/vnd.databricks.v1+cell": {
     "cellMetadata": {
      "byteLimit": 2048000,
      "rowLimit": 10000
     },
     "inputWidgets": {},
     "nuid": "dac40c36-4827-4545-8cea-efad9cb7a3ca",
     "showTitle": false,
     "tableResultSettingsMap": {},
     "title": ""
    }
   },
   "outputs": [],
   "source": [
    "def pergunta_rag(question: str) -> dict:\n",
    "    \"\"\"\n",
    "    \n",
    "    \"\"\"\n",
    "    docs = retriever.invoke(question)\n",
    "\n",
    "    if not docs:\n",
    "        return {\"answer\": \"Não sei\",\n",
    "                \"citacoes\": [],\n",
    "                \"contexto_encontrado\": False}\n",
    "    \n",
    "    answer = documents_chain.invoke({\"question\": question, \"context\": docs})\n",
    "    \n",
    "    txt = (answer or \"\").strip()\n",
    "    \n",
    "    if txt.rstrip(\".!?\") == \"Não sei\":\n",
    "        return {\"answer\": \"Não\",\n",
    "                \"citacoes\": [],\n",
    "                \"contexto_encontrado\": False}\n",
    "        \n",
    "\n",
    "    return {\"answer\": txt,\n",
    "            \"citacoes\": docs,\n",
    "            \"contexto_encontrado\": True}\n",
    "      "
   ]
  },
  {
   "cell_type": "code",
   "execution_count": 0,
   "metadata": {
    "application/vnd.databricks.v1+cell": {
     "cellMetadata": {
      "byteLimit": 2048000,
      "rowLimit": 10000
     },
     "inputWidgets": {},
     "nuid": "358fa956-a867-4b30-a61a-ff93a9724386",
     "showTitle": false,
     "tableResultSettingsMap": {},
     "title": ""
    }
   },
   "outputs": [],
   "source": [
    "testes = [\"Qual o assunto principal do paper?\", \n",
    "          \"Preciso fazer o upload do paper\",\n",
    "          \"O palmeiras tem mundial?\",\n",
    "          \"Já enviei o paper, podemos começar?\"]\n",
    "\n",
    "for teste in testes:\n",
    "    resposta = pergunta_rag(teste)\n",
    "    print(f\"Pergunta: {teste}\")\n",
    "    print(f\"Resposta: {resposta[\"answer\"]}\")\n",
    "\n",
    "    if resposta[\"contexto_encontrado\"]:\n",
    "        print(\"Citacoes:\")\n",
    "        print(resposta[\"citacoes\"])\n",
    "        print(\"---------------------------------------------\")\n",
    "    "
   ]
  },
  {
   "cell_type": "code",
   "execution_count": 0,
   "metadata": {
    "application/vnd.databricks.v1+cell": {
     "cellMetadata": {},
     "inputWidgets": {},
     "nuid": "53466ba4-a1da-461e-a2fd-a36ace1c5f5e",
     "showTitle": false,
     "tableResultSettingsMap": {},
     "title": ""
    }
   },
   "outputs": [],
   "source": []
  }
 ],
 "metadata": {
  "application/vnd.databricks.v1+notebook": {
   "computePreferences": {
    "hardware": {
     "accelerator": null,
     "gpuPoolId": null,
     "memory": null
    }
   },
   "dashboards": [],
   "environmentMetadata": {
    "base_environment": "",
    "environment_version": "3"
   },
   "inputWidgetPreferences": null,
   "language": "python",
   "notebookMetadata": {
    "mostRecentlyExecutedCommandWithImplicitDF": {
     "commandId": 8724701966165807,
     "dataframes": [
      "_sqldf"
     ]
    },
    "pythonIndentUnit": 4
   },
   "notebookName": "ImersaoAgentesIA",
   "widgets": {}
  },
  "language_info": {
   "name": "python"
  }
 },
 "nbformat": 4,
 "nbformat_minor": 0
}
