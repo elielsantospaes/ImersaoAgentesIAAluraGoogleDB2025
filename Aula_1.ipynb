{
 "cells": [
  {
   "cell_type": "markdown",
   "metadata": {
    "application/vnd.databricks.v1+cell": {
     "cellMetadata": {
      "byteLimit": 2048000,
      "rowLimit": 10000
     },
     "inputWidgets": {},
     "nuid": "b7ae1b22-bad0-45f8-b3ba-73bac2261dd1",
     "showTitle": true,
     "tableResultSettingsMap": {},
     "title": "Definição do comportamento do agente"
    }
   },
   "source": [
    "#### Definição do agente   \n",
    "\n",
    "Este agente será um assistente para estudos, focado em leitura de papers.   \n",
    "O propósito será explicar em linguagem simples o que está descrito no paper.\n",
    "\n"
   ]
  },
  {
   "cell_type": "markdown",
   "metadata": {
    "application/vnd.databricks.v1+cell": {
     "cellMetadata": {},
     "inputWidgets": {},
     "nuid": "377df0f1-4a26-45df-b65d-a0d379657105",
     "showTitle": false,
     "tableResultSettingsMap": {},
     "title": ""
    }
   },
   "source": [
    "#### palavras chaves:  \n",
    "Aula 1: \"LANGCHAIN\""
   ]
  },
  {
   "cell_type": "markdown",
   "metadata": {
    "application/vnd.databricks.v1+cell": {
     "cellMetadata": {},
     "inputWidgets": {},
     "nuid": "2794d92b-b05a-4997-b685-72df2515d686",
     "showTitle": false,
     "tableResultSettingsMap": {},
     "title": ""
    }
   },
   "source": []
  },
  {
   "cell_type": "code",
   "execution_count": 0,
   "metadata": {
    "application/vnd.databricks.v1+cell": {
     "cellMetadata": {
      "byteLimit": 2048000,
      "rowLimit": 10000
     },
     "inputWidgets": {},
     "nuid": "ad99a6fb-ea6a-433b-864b-38b31d772a99",
     "showTitle": true,
     "tableResultSettingsMap": {},
     "title": "installs"
    }
   },
   "outputs": [],
   "source": [
    "!pip install -q --upgrade -r requirements.txt"
   ]
  },
  {
   "cell_type": "code",
   "execution_count": 0,
   "metadata": {
    "application/vnd.databricks.v1+cell": {
     "cellMetadata": {
      "byteLimit": 2048000,
      "rowLimit": 10000
     },
     "inputWidgets": {},
     "nuid": "7cd4e36c-42a8-42ce-ae2d-58c44e7c94b9",
     "showTitle": true,
     "tableResultSettingsMap": {},
     "title": "Imports"
    }
   },
   "outputs": [],
   "source": [
    "import json\n",
    "import prompts\n",
    "import os\n",
    "\n",
    "from langchain_google_genai import ChatGoogleGenerativeAI\n",
    "from pydantic import BaseModel, Field\n",
    "from typing import Literal, List, Dict\n",
    "from langchain_core.messages import SystemMessage, HumanMessage\n",
    "\n",
    "GEMINI_API_KEY = json.load(open(\"config.json\"))[\"GEMINI_API_KEY\"]"
   ]
  },
  {
   "cell_type": "code",
   "execution_count": 0,
   "metadata": {
    "application/vnd.databricks.v1+cell": {
     "cellMetadata": {
      "byteLimit": 2048000,
      "rowLimit": 10000
     },
     "inputWidgets": {},
     "nuid": "ada36a22-8bf5-4232-ac19-27459e04f785",
     "showTitle": true,
     "tableResultSettingsMap": {},
     "title": "Instanciando o chat"
    }
   },
   "outputs": [],
   "source": [
    "llm = ChatGoogleGenerativeAI(model = \"gemini-2.5-flash\", temperature = 0, api_key = GEMINI_API_KEY)"
   ]
  },
  {
   "cell_type": "code",
   "execution_count": 0,
   "metadata": {
    "application/vnd.databricks.v1+cell": {
     "cellMetadata": {
      "byteLimit": 2048000,
      "rowLimit": 10000
     },
     "inputWidgets": {},
     "nuid": "83b5fa37-a62e-48b0-9169-53dffdcd6f38",
     "showTitle": false,
     "tableResultSettingsMap": {},
     "title": ""
    }
   },
   "outputs": [],
   "source": [
    "class TriagemOut(BaseModel):\n",
    "    decisao: Literal[\"AUTO_RESOLVER\", \"PEDIR_INFO\", \"ABRIR_CHAMADO\"]\n",
    "    urgencia: Literal[\"BAIXA\", \"MEDIA\", \"ALTA\"]\n",
    "    campos_faltantes: List[str] = Field(default_factory = list)"
   ]
  },
  {
   "cell_type": "code",
   "execution_count": 0,
   "metadata": {
    "application/vnd.databricks.v1+cell": {
     "cellMetadata": {
      "byteLimit": 2048000,
      "rowLimit": 10000
     },
     "inputWidgets": {},
     "nuid": "903417b6-1f93-4b2f-b48b-ca81d66e08e2",
     "showTitle": false,
     "tableResultSettingsMap": {},
     "title": ""
    }
   },
   "outputs": [],
   "source": [
    "llm_triagem = ChatGoogleGenerativeAI(model = \"gemini-2.5-flash\", temperature = 0, api_key = GEMINI_API_KEY)"
   ]
  },
  {
   "cell_type": "code",
   "execution_count": 0,
   "metadata": {
    "application/vnd.databricks.v1+cell": {
     "cellMetadata": {
      "byteLimit": 2048000,
      "rowLimit": 10000
     },
     "inputWidgets": {},
     "nuid": "a751de43-bed9-4fce-b6c3-b84123d528f4",
     "showTitle": true,
     "tableResultSettingsMap": {},
     "title": "system prompt"
    }
   },
   "outputs": [],
   "source": [
    "triagem_prompt = \"\"\"Você é o recepcionista virtual de uma sistema de estudo online chamado ReadMyPaper. Você deve fazer o primeiro atendimento dos usuários identificando se os requisitos para iniciar a leitura do paper foram cumpridos.\n",
    "Dada a mensagem do usuário, retorne SOMENTE um JSON com:\n",
    "'''{\n",
    "\"decisao\": \"TUDO_CERTO\" | \"PEDIR_INFO\" | \"ABRIR_CHAMADO\",\n",
    "\"urgencia\": \"BAIXA\" | \"MEDIA\" | \"ALTA\",\n",
    "\"campos_faltantes\": [\"...\"]\n",
    "}'''\n",
    "Regras:\n",
    "- **TUDO_CERTO**: Perguntas claras sobre o conteúdo do paper, ou pedido de ajuda para enviar o paper para análise (Ex: \"Qual o principal assunto do paper?\", \"Qual a metodologia utilizada?\", \"Como faço para enviar o paper?\").\n",
    "- **PEDIR_INFO**: Mensagens vagas ou que faltam informações para identificar o paper (Ex: \"Preciso de ajuda\", \"Tenho uma dúvida geral\", \"Qualquer pergunta fora do contexto do ReadMyPaper\").\n",
    "- **ABRIR_CHAMADO**: Situações em que não é possível continuar com a atendimento com o usuário. (Ex: \"O usuáiro afirma que já fez o envio do paper mas ainda não há conteúdo para ser avaliado.\", \"O usuário está com problemas ao tentar enviar o paper\", \"O usuário pede abrir chamado\").\n",
    "Analise a mensagem e decida a ação mais apropriada.\n",
    "\"\"\""
   ]
  },
  {
   "cell_type": "code",
   "execution_count": 0,
   "metadata": {
    "application/vnd.databricks.v1+cell": {
     "cellMetadata": {
      "byteLimit": 2048000,
      "rowLimit": 10000
     },
     "inputWidgets": {},
     "nuid": "db9ad24b-9225-4d04-a33f-1c6a4f80571f",
     "showTitle": false,
     "tableResultSettingsMap": {},
     "title": ""
    }
   },
   "outputs": [],
   "source": [
    "triagem_chain = llm_triagem.with_structured_output(TriagemOut)\n",
    "\n",
    "def get_papers_list():\n",
    "    \"\"\"\n",
    "    \n",
    "    \"\"\"\n",
    "    pass\n",
    "          \n",
    "\n",
    "def check_paper_exist(paper_name) -> list:\n",
    "    \"\"\"\n",
    "    \n",
    "    \"\"\"\n",
    "    if os.path.exists(f\"papers_to_read\"):\n",
    "        return True\n",
    "    return os.path.exists(f\"papers/{paper_name}.pdf\")\n",
    "    \n",
    "\n",
    "\n",
    "def triagem(message: str) -> dict:\n",
    "    \"\"\"\n",
    "    Retorna um dicionário com as seguintes chaves:\n",
    "    - decisao: \"TUDO_CERTO\", \"PEDIR_INFO\", \"ABRIR_CHAMADO\"\n",
    "    - urgencia: \"BAIXA\", \"MEDIA\", \"ALTA\"\n",
    "    - campos_faltantes: lista de campos faltantes\n",
    "    \"\"\"\n",
    "       \n",
    "    triagem_out: TriagemOut = triagem_chain.invoke([SystemMessage(content = triagem_prompt), HumanMessage(content = message)])\n",
    "\n",
    "    return triagem_out.model_dump()  "
   ]
  },
  {
   "cell_type": "code",
   "execution_count": 0,
   "metadata": {
    "application/vnd.databricks.v1+cell": {
     "cellMetadata": {
      "byteLimit": 2048000,
      "rowLimit": 10000
     },
     "inputWidgets": {},
     "nuid": "20cc3e0b-c724-4e34-bc47-60686416b741",
     "showTitle": false,
     "tableResultSettingsMap": {},
     "title": ""
    }
   },
   "outputs": [],
   "source": [
    "triagem(\"Quero iniciar a leitura do paper.\")"
   ]
  },
  {
   "cell_type": "code",
   "execution_count": 0,
   "metadata": {
    "application/vnd.databricks.v1+cell": {
     "cellMetadata": {},
     "inputWidgets": {},
     "nuid": "a9cd2491-dc06-415a-a606-8bccb8603718",
     "showTitle": false,
     "tableResultSettingsMap": {},
     "title": ""
    }
   },
   "outputs": [],
   "source": []
  }
 ],
 "metadata": {
  "application/vnd.databricks.v1+notebook": {
   "computePreferences": {
    "hardware": {
     "accelerator": null,
     "gpuPoolId": null,
     "memory": null
    }
   },
   "dashboards": [],
   "environmentMetadata": {
    "base_environment": "",
    "environment_version": "3"
   },
   "inputWidgetPreferences": null,
   "language": "python",
   "notebookMetadata": {
    "mostRecentlyExecutedCommandWithImplicitDF": {
     "commandId": 8724701966165807,
     "dataframes": [
      "_sqldf"
     ]
    },
    "pythonIndentUnit": 4
   },
   "notebookName": "Aula_1",
   "widgets": {}
  },
  "language_info": {
   "name": "python"
  }
 },
 "nbformat": 4,
 "nbformat_minor": 0
}
